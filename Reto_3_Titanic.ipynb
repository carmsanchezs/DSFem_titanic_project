{
  "nbformat": 4,
  "nbformat_minor": 0,
  "metadata": {
    "colab": {
      "name": "Reto 3 Titanic.ipynb",
      "provenance": [],
      "include_colab_link": true
    },
    "kernelspec": {
      "name": "python3",
      "display_name": "Python 3"
    },
    "language_info": {
      "name": "python"
    }
  },
  "cells": [
    {
      "cell_type": "markdown",
      "metadata": {
        "id": "view-in-github",
        "colab_type": "text"
      },
      "source": [
        "<a href=\"https://colab.research.google.com/github/carmsanchezs/DSFem_titanic_project/blob/main/Reto_3_Titanic.ipynb\" target=\"_parent\"><img src=\"https://colab.research.google.com/assets/colab-badge.svg\" alt=\"Open In Colab\"/></a>"
      ]
    },
    {
      "cell_type": "markdown",
      "metadata": {
        "id": "CpZWxzhiqVE9"
      },
      "source": [
        "#**Titanic**\n",
        "###**Reto**: ¿Cuál es la supervivencia por genéro, clase y embarque? Acompaña tu respuesta con un gráfico.\n",
        "[reto y dataset en Kaggle](https://www.kaggle.com/c/titanic/data)"
      ]
    },
    {
      "cell_type": "code",
      "metadata": {
        "id": "SB1pmdXj4ROI"
      },
      "source": [
        "# Importando librerias\n",
        "import pandas as pd\n",
        "import matplotlib.pyplot as plt\n",
        "import seaborn as sns"
      ],
      "execution_count": 239,
      "outputs": []
    },
    {
      "cell_type": "code",
      "metadata": {
        "id": "_jZQYsGY4i87"
      },
      "source": [
        "# Cargando archivo\n",
        "data = pd.read_csv('train.csv')"
      ],
      "execution_count": 240,
      "outputs": []
    },
    {
      "cell_type": "markdown",
      "metadata": {
        "id": "7-an_fv5j6j3"
      },
      "source": [
        "#**Explorando nuestro dataset**\n",
        "\n",
        "\n"
      ]
    },
    {
      "cell_type": "code",
      "metadata": {
        "colab": {
          "base_uri": "https://localhost:8080/"
        },
        "id": "JJyjJNArpRJ4",
        "outputId": "e7666e1b-3469-4981-db3e-0bcace62a686"
      },
      "source": [
        "# Conociendo la cantidad de pasajeros que sobrevivieron y los que no\n",
        "data['Survived'].value_counts()"
      ],
      "execution_count": 241,
      "outputs": [
        {
          "output_type": "execute_result",
          "data": {
            "text/plain": [
              "0    549\n",
              "1    342\n",
              "Name: Survived, dtype: int64"
            ]
          },
          "metadata": {
            "tags": []
          },
          "execution_count": 241
        }
      ]
    },
    {
      "cell_type": "code",
      "metadata": {
        "id": "BvsnV9UqmWhF"
      },
      "source": [
        "# Renombramos las columnas traduciendo a español\n",
        "data.rename(columns={'PassengerId':'Id Pasajero','Survived':'Supervivencia', 'Pclass':'Clase','Name':'Nombre', 'Sex':'Genero','Age':'Edad','SibSp':'SibSp','Parch':'Parch', 'Ticket':'Tiquete','Fare':'Costo tiquete','Cabin':'Cabina','Embarked':'Embarque'},inplace=True)"
      ],
      "execution_count": 242,
      "outputs": []
    },
    {
      "cell_type": "code",
      "metadata": {
        "id": "LrVjlOdTpxFt"
      },
      "source": [
        "# Filtrando sólo los sobrevivientes\n",
        "sobrevivientes = data[data['Supervivencia']==1]"
      ],
      "execution_count": 243,
      "outputs": []
    },
    {
      "cell_type": "code",
      "metadata": {
        "colab": {
          "base_uri": "https://localhost:8080/"
        },
        "id": "i5Zv3sBZje1V",
        "outputId": "2aab3e83-69fc-4bb8-c3d1-2e0d3b4949eb"
      },
      "source": [
        "# Explorando la cantidad de información que hay en el dataset\n",
        "sobrevivientes.shape"
      ],
      "execution_count": 244,
      "outputs": [
        {
          "output_type": "execute_result",
          "data": {
            "text/plain": [
              "(342, 12)"
            ]
          },
          "metadata": {
            "tags": []
          },
          "execution_count": 244
        }
      ]
    },
    {
      "cell_type": "code",
      "metadata": {
        "colab": {
          "base_uri": "https://localhost:8080/"
        },
        "id": "OqKBU0ma5AYE",
        "outputId": "1fb687b9-0fa5-470e-b72d-7001efd38977"
      },
      "source": [
        "# Explorando los nombres de las columnas y su tipo de dato\n",
        "sobrevivientes.info()"
      ],
      "execution_count": 245,
      "outputs": [
        {
          "output_type": "stream",
          "text": [
            "<class 'pandas.core.frame.DataFrame'>\n",
            "Int64Index: 342 entries, 1 to 889\n",
            "Data columns (total 12 columns):\n",
            " #   Column         Non-Null Count  Dtype  \n",
            "---  ------         --------------  -----  \n",
            " 0   Id Pasajero    342 non-null    int64  \n",
            " 1   Supervivencia  342 non-null    int64  \n",
            " 2   Clase          342 non-null    int64  \n",
            " 3   Nombre         342 non-null    object \n",
            " 4   Genero         342 non-null    object \n",
            " 5   Edad           290 non-null    float64\n",
            " 6   SibSp          342 non-null    int64  \n",
            " 7   Parch          342 non-null    int64  \n",
            " 8   Tiquete        342 non-null    object \n",
            " 9   Costo tiquete  342 non-null    float64\n",
            " 10  Cabina         136 non-null    object \n",
            " 11  Embarque       340 non-null    object \n",
            "dtypes: float64(2), int64(5), object(5)\n",
            "memory usage: 34.7+ KB\n"
          ],
          "name": "stdout"
        }
      ]
    },
    {
      "cell_type": "markdown",
      "metadata": {
        "id": "R_AHnoDLlVGx"
      },
      "source": [
        "\n",
        "> **Conclusiones sobre el análisis de los campos.**\n",
        ">*   Total de sobrevivientes\n",
        ": **342**\n",
        "*   Tenemos los siguientes campos numéricos: **Age, Fare, SibSp, Parch**\n",
        "*   Y las siguientes variables categóricas: **Survived:** 0=No, 1=Yes; **Pclass:** 1 = 1st, 2 = 2nd, 3 = 3rd; **Sex:** male, female; **Embarked:** C = Cherbourg, Q = Queenstown, S = Southampton\n",
        "\n",
        "\n",
        "\n",
        "\n",
        "\n",
        "\n",
        "\n",
        "\n",
        "\n"
      ]
    },
    {
      "cell_type": "markdown",
      "metadata": {
        "id": "SEVcffIYtRUu"
      },
      "source": [
        "#**Supervivencia por genéro**"
      ]
    },
    {
      "cell_type": "code",
      "metadata": {
        "colab": {
          "base_uri": "https://localhost:8080/"
        },
        "id": "RvEFoZ405v5u",
        "outputId": "02fbf26c-a570-4bed-eafc-ddb8824a8f46"
      },
      "source": [
        "# Verificamos que en el campo \"Sex\" no tengamos valores atípicos.\n",
        "sobrevivientes['Genero'].unique()"
      ],
      "execution_count": 246,
      "outputs": [
        {
          "output_type": "execute_result",
          "data": {
            "text/plain": [
              "array(['female', 'male'], dtype=object)"
            ]
          },
          "metadata": {
            "tags": []
          },
          "execution_count": 246
        }
      ]
    },
    {
      "cell_type": "code",
      "metadata": {
        "colab": {
          "base_uri": "https://localhost:8080/"
        },
        "id": "ovvPBO8ptsts",
        "outputId": "38f457e1-da83-4c5b-dcfa-f56d41829468"
      },
      "source": [
        "# Personas iniciales\n",
        "sobrevivientes['Genero'].value_counts()"
      ],
      "execution_count": 247,
      "outputs": [
        {
          "output_type": "execute_result",
          "data": {
            "text/plain": [
              "female    233\n",
              "male      109\n",
              "Name: Genero, dtype: int64"
            ]
          },
          "metadata": {
            "tags": []
          },
          "execution_count": 247
        }
      ]
    },
    {
      "cell_type": "code",
      "metadata": {
        "colab": {
          "base_uri": "https://localhost:8080/"
        },
        "id": "WsU-esbAGYp-",
        "outputId": "bda967d2-ac92-4290-8555-193445b9a229"
      },
      "source": [
        "# Obtenemos el total de pasajeros y lo guardamos en una variable\n",
        "total_sobrevivientes = len(data_titanic['Nombre'])\n",
        "total_sobrevivientes"
      ],
      "execution_count": 248,
      "outputs": [
        {
          "output_type": "execute_result",
          "data": {
            "text/plain": [
              "342"
            ]
          },
          "metadata": {
            "tags": []
          },
          "execution_count": 248
        }
      ]
    },
    {
      "cell_type": "code",
      "metadata": {
        "id": "vtEyw3xeGmCy"
      },
      "source": [
        "# Creamos un nuevo campo que será la tasa de supervivencia por genero\n",
        "sobrevivientes_sex = sobrevivientes.groupby('Genero')[['Nombre']].count()\n",
        "sobrevivientes_sex['% tasa_mortalidad_gen']= round((sobrevivientes_sex['Nombre']*100/total_sobrevivientes),2)"
      ],
      "execution_count": 249,
      "outputs": []
    },
    {
      "cell_type": "code",
      "metadata": {
        "colab": {
          "base_uri": "https://localhost:8080/",
          "height": 111
        },
        "id": "HsNyjj0rmUNi",
        "outputId": "4017e25e-bdca-415b-c2dd-8715e1380923"
      },
      "source": [
        "# Adecuamos nuestro dataset para graficar\n",
        "del(sobrevivientes_sex['Nombre'])\n",
        "sobrevivientes_sex.reset_index(inplace=True)\n",
        "sobrevivientes_sex.head()"
      ],
      "execution_count": 250,
      "outputs": [
        {
          "output_type": "execute_result",
          "data": {
            "text/html": [
              "<div>\n",
              "<style scoped>\n",
              "    .dataframe tbody tr th:only-of-type {\n",
              "        vertical-align: middle;\n",
              "    }\n",
              "\n",
              "    .dataframe tbody tr th {\n",
              "        vertical-align: top;\n",
              "    }\n",
              "\n",
              "    .dataframe thead th {\n",
              "        text-align: right;\n",
              "    }\n",
              "</style>\n",
              "<table border=\"1\" class=\"dataframe\">\n",
              "  <thead>\n",
              "    <tr style=\"text-align: right;\">\n",
              "      <th></th>\n",
              "      <th>Genero</th>\n",
              "      <th>% tasa_mortalidad_gen</th>\n",
              "    </tr>\n",
              "  </thead>\n",
              "  <tbody>\n",
              "    <tr>\n",
              "      <th>0</th>\n",
              "      <td>female</td>\n",
              "      <td>68.13</td>\n",
              "    </tr>\n",
              "    <tr>\n",
              "      <th>1</th>\n",
              "      <td>male</td>\n",
              "      <td>31.87</td>\n",
              "    </tr>\n",
              "  </tbody>\n",
              "</table>\n",
              "</div>"
            ],
            "text/plain": [
              "   Genero  % tasa_mortalidad_gen\n",
              "0  female                  68.13\n",
              "1    male                  31.87"
            ]
          },
          "metadata": {
            "tags": []
          },
          "execution_count": 250
        }
      ]
    },
    {
      "cell_type": "code",
      "metadata": {
        "colab": {
          "base_uri": "https://localhost:8080/",
          "height": 295
        },
        "id": "J5sZMkXv06cP",
        "outputId": "68623772-2c88-49df-cd7c-ada97d18e27d"
      },
      "source": [
        "# Graficamos\n",
        "colors_gen = {\"female\": \"#FFC0CB\",\n",
        "                  \"male\": \"#00BFFF\"}\n",
        "g=sns.barplot(x=\"Genero\", y=\"% tasa_mortalidad_gen\", data=sobrevivientes_sex, palette=colors_gen)\n",
        "g.set_title('Tasa de mortalidad según el genero del pasajero')\n",
        "g.set_ylabel('Porcentaje de mortalidad')\n",
        "g.set_xticklabels(['Femenino', 'Masculino'])\n",
        "\n",
        "# creando anotaciones en la gráfica\n",
        "for p in g.patches:\n",
        "             g.annotate(\"%.2f\" % p.get_height(), (p.get_x() + p.get_width() / 2., p.get_height()),\n",
        "                 ha='center', va='center', fontsize=11, color='gray', xytext=(0, 10),\n",
        "                 textcoords='offset points')\n",
        "# ajustamos el valor de y a 100             \n",
        "_ = g.set_ylim(0,100) \n",
        "\n",
        "plt.show()"
      ],
      "execution_count": 251,
      "outputs": [
        {
          "output_type": "display_data",
          "data": {
            "image/png": "[encoded data removed]",
            "text/plain": [
              "<Figure size 432x288 with 1 Axes>"
            ]
          },
          "metadata": {
            "tags": [],
            "needs_background": "light"
          }
        }
      ]
    },
    {
      "cell_type": "markdown",
      "metadata": {
        "id": "EfS9wFDoyxyI"
      },
      "source": [
        "#**Supervivencia por clase**"
      ]
    },
    {
      "cell_type": "code",
      "metadata": {
        "colab": {
          "base_uri": "https://localhost:8080/",
          "height": 264
        },
        "id": "ugtajhGLd9Ng",
        "outputId": "2f3a0300-38d0-4b02-d01a-59cad42a09b3"
      },
      "source": [
        "ax = data.Clase.value_counts().plot.pie(autopct='%1.2f%%',shadow=False,\n",
        "                                legend = False, fontsize=11)\n",
        "ax.set_title('Distribución de pasajeros por Genero')\n",
        "plt.show()"
      ],
      "execution_count": 264,
      "outputs": [
        {
          "output_type": "display_data",
          "data": {
            "image/png": "[encoded data removed]",
            "text/plain": [
              "<Figure size 432x288 with 1 Axes>"
            ]
          },
          "metadata": {
            "tags": []
          }
        }
      ]
    },
    {
      "cell_type": "code",
      "metadata": {
        "colab": {
          "base_uri": "https://localhost:8080/"
        },
        "id": "Tig9axvXzORg",
        "outputId": "563b4613-8b30-4d57-b02a-88ae5986c5a5"
      },
      "source": [
        "# Verificamos que no existan valores atípicos\n",
        "sobrevivientes['Clase'].value_counts()"
      ],
      "execution_count": 253,
      "outputs": [
        {
          "output_type": "execute_result",
          "data": {
            "text/plain": [
              "1    136\n",
              "3    119\n",
              "2     87\n",
              "Name: Clase, dtype: int64"
            ]
          },
          "metadata": {
            "tags": []
          },
          "execution_count": 253
        }
      ]
    },
    {
      "cell_type": "code",
      "metadata": {
        "id": "kxJRywMNE4h8"
      },
      "source": [
        "# Obtenemos el total de pasajeros que sobrevivieron o no (\"Survived\"), de acuerdo a la clase \"Pclass\"\n",
        "sobrevivientes_class = sobrevivientes.groupby('Clase')[['Nombre']].count()"
      ],
      "execution_count": 254,
      "outputs": []
    },
    {
      "cell_type": "code",
      "metadata": {
        "colab": {
          "base_uri": "https://localhost:8080/",
          "height": 142
        },
        "id": "f7jBl_SHayoE",
        "outputId": "8ca13a47-3b87-47d9-b8b7-47cc1ad32641"
      },
      "source": [
        "# Obtenemos tasa de mortalidad por clase \n",
        "sobrevivientes_class['% tasa_mortalidad_clase']= round((sobrevivientes_class['Nombre']*100/total_personas),2)\n",
        "del(sobrevivientes_class['Nombre'])\n",
        "sobrevivientes_class.reset_index(inplace=True)\n",
        "sobrevivientes_class"
      ],
      "execution_count": 255,
      "outputs": [
        {
          "output_type": "execute_result",
          "data": {
            "text/html": [
              "<div>\n",
              "<style scoped>\n",
              "    .dataframe tbody tr th:only-of-type {\n",
              "        vertical-align: middle;\n",
              "    }\n",
              "\n",
              "    .dataframe tbody tr th {\n",
              "        vertical-align: top;\n",
              "    }\n",
              "\n",
              "    .dataframe thead th {\n",
              "        text-align: right;\n",
              "    }\n",
              "</style>\n",
              "<table border=\"1\" class=\"dataframe\">\n",
              "  <thead>\n",
              "    <tr style=\"text-align: right;\">\n",
              "      <th></th>\n",
              "      <th>Clase</th>\n",
              "      <th>% tasa_mortalidad_clase</th>\n",
              "    </tr>\n",
              "  </thead>\n",
              "  <tbody>\n",
              "    <tr>\n",
              "      <th>0</th>\n",
              "      <td>1</td>\n",
              "      <td>39.77</td>\n",
              "    </tr>\n",
              "    <tr>\n",
              "      <th>1</th>\n",
              "      <td>2</td>\n",
              "      <td>25.44</td>\n",
              "    </tr>\n",
              "    <tr>\n",
              "      <th>2</th>\n",
              "      <td>3</td>\n",
              "      <td>34.80</td>\n",
              "    </tr>\n",
              "  </tbody>\n",
              "</table>\n",
              "</div>"
            ],
            "text/plain": [
              "   Clase  % tasa_mortalidad_clase\n",
              "0      1                    39.77\n",
              "1      2                    25.44\n",
              "2      3                    34.80"
            ]
          },
          "metadata": {
            "tags": []
          },
          "execution_count": 255
        }
      ]
    },
    {
      "cell_type": "code",
      "metadata": {
        "colab": {
          "base_uri": "https://localhost:8080/",
          "height": 295
        },
        "id": "QQ5dxcT6bYL5",
        "outputId": "0a9ba70c-b152-47ed-faae-1d59317d9241"
      },
      "source": [
        "# graficamos\n",
        "sns.set_palette(\"Blues\")\n",
        "g = sns.barplot(x=\"Clase\", y=\"% tasa_mortalidad_clase\", data=sobrevivientes_class)\n",
        "g.set_title('Tasa de mortalidad según la clase del pasajero')\n",
        "g.set_ylabel('Porcentaje de mortalidad')\n",
        "g.set_xticklabels(['1st','2nd','3rd'])\n",
        "\n",
        "# creando las anotaciones para desplegar los valores en cada bar\n",
        "for p in g.patches:\n",
        "             g.annotate(\"%.2f\" % p.get_height(), (p.get_x() + p.get_width() / 2., p.get_height()),\n",
        "                 ha='center', va='center', fontsize=11, color='gray', xytext=(0, 10),\n",
        "                 textcoords='offset points')\n",
        "# ajustamos el valor de y a 100             \n",
        "_ = g.set_ylim(0,100) \n",
        "\n",
        "plt.show()"
      ],
      "execution_count": 256,
      "outputs": [
        {
          "output_type": "display_data",
          "data": {
            "image/png": "[encoded data removed]",
            "text/plain": [
              "<Figure size 432x288 with 1 Axes>"
            ]
          },
          "metadata": {
            "tags": [],
            "needs_background": "light"
          }
        }
      ]
    },
    {
      "cell_type": "markdown",
      "metadata": {
        "id": "OvTRo2fhzzdp"
      },
      "source": [
        "#**Supervivencia por Embarque**"
      ]
    },
    {
      "cell_type": "code",
      "metadata": {
        "colab": {
          "base_uri": "https://localhost:8080/"
        },
        "id": "svZXucX2Wrie",
        "outputId": "bce0ca2f-57c1-4ebd-a9d0-189ea7cba2b5"
      },
      "source": [
        "# verificamos que no existan valores atípicos\n",
        "sobrevivientes['Embarque'].value_counts()"
      ],
      "execution_count": 257,
      "outputs": [
        {
          "output_type": "execute_result",
          "data": {
            "text/plain": [
              "S    217\n",
              "C     93\n",
              "Q     30\n",
              "Name: Embarque, dtype: int64"
            ]
          },
          "metadata": {
            "tags": []
          },
          "execution_count": 257
        }
      ]
    },
    {
      "cell_type": "code",
      "metadata": {
        "colab": {
          "base_uri": "https://localhost:8080/",
          "height": 111
        },
        "id": "azCYl2pLREkO",
        "outputId": "6c6848e3-2228-4968-ee7b-823572adc5af"
      },
      "source": [
        "# Buscando valores nulos en el campo \"Embarked\"\n",
        "sobrevivientes[sobrevivientes['Embarque'].isnull()]"
      ],
      "execution_count": 258,
      "outputs": [
        {
          "output_type": "execute_result",
          "data": {
            "text/html": [
              "<div>\n",
              "<style scoped>\n",
              "    .dataframe tbody tr th:only-of-type {\n",
              "        vertical-align: middle;\n",
              "    }\n",
              "\n",
              "    .dataframe tbody tr th {\n",
              "        vertical-align: top;\n",
              "    }\n",
              "\n",
              "    .dataframe thead th {\n",
              "        text-align: right;\n",
              "    }\n",
              "</style>\n",
              "<table border=\"1\" class=\"dataframe\">\n",
              "  <thead>\n",
              "    <tr style=\"text-align: right;\">\n",
              "      <th></th>\n",
              "      <th>Id Pasajero</th>\n",
              "      <th>Supervivencia</th>\n",
              "      <th>Clase</th>\n",
              "      <th>Nombre</th>\n",
              "      <th>Genero</th>\n",
              "      <th>Edad</th>\n",
              "      <th>SibSp</th>\n",
              "      <th>Parch</th>\n",
              "      <th>Tiquete</th>\n",
              "      <th>Costo tiquete</th>\n",
              "      <th>Cabina</th>\n",
              "      <th>Embarque</th>\n",
              "    </tr>\n",
              "  </thead>\n",
              "  <tbody>\n",
              "    <tr>\n",
              "      <th>61</th>\n",
              "      <td>62</td>\n",
              "      <td>1</td>\n",
              "      <td>1</td>\n",
              "      <td>Icard, Miss. Amelie</td>\n",
              "      <td>female</td>\n",
              "      <td>38.0</td>\n",
              "      <td>0</td>\n",
              "      <td>0</td>\n",
              "      <td>113572</td>\n",
              "      <td>80.0</td>\n",
              "      <td>B28</td>\n",
              "      <td>NaN</td>\n",
              "    </tr>\n",
              "    <tr>\n",
              "      <th>829</th>\n",
              "      <td>830</td>\n",
              "      <td>1</td>\n",
              "      <td>1</td>\n",
              "      <td>Stone, Mrs. George Nelson (Martha Evelyn)</td>\n",
              "      <td>female</td>\n",
              "      <td>62.0</td>\n",
              "      <td>0</td>\n",
              "      <td>0</td>\n",
              "      <td>113572</td>\n",
              "      <td>80.0</td>\n",
              "      <td>B28</td>\n",
              "      <td>NaN</td>\n",
              "    </tr>\n",
              "  </tbody>\n",
              "</table>\n",
              "</div>"
            ],
            "text/plain": [
              "     Id Pasajero  Supervivencia  Clase  ... Costo tiquete Cabina  Embarque\n",
              "61            62              1      1  ...          80.0    B28       NaN\n",
              "829          830              1      1  ...          80.0    B28       NaN\n",
              "\n",
              "[2 rows x 12 columns]"
            ]
          },
          "metadata": {
            "tags": []
          },
          "execution_count": 258
        }
      ]
    },
    {
      "cell_type": "code",
      "metadata": {
        "id": "bBbMtI2aQOzX",
        "colab": {
          "base_uri": "https://localhost:8080/"
        },
        "outputId": "c7742e33-a798-425e-8892-8ca4c8222f12"
      },
      "source": [
        "# Vamos a trabajar con valores no nulos en 'Embarked' y determinar el total\n",
        "sobrevivientes_embarked_notnull= sobrevivientes[sobrevivientes['Embarque'].notnull()]\n",
        "total_sobrevivientes_embarked = len(sobrevivientes_embarked_notnull)\n",
        "total_sobrevivientes_embarked"
      ],
      "execution_count": 259,
      "outputs": [
        {
          "output_type": "execute_result",
          "data": {
            "text/plain": [
              "340"
            ]
          },
          "metadata": {
            "tags": []
          },
          "execution_count": 259
        }
      ]
    },
    {
      "cell_type": "code",
      "metadata": {
        "id": "IbzLrnwCWxcA"
      },
      "source": [
        "# Obtenemos el total de pasajeros sobrevivientes y no sobrevivientes en cada una de las dependencias de embarque\n",
        "sobrevivientes_embarked= sobrevivientes_embarked_notnull.groupby('Embarque')[['Nombre']].count()"
      ],
      "execution_count": 260,
      "outputs": []
    },
    {
      "cell_type": "code",
      "metadata": {
        "colab": {
          "base_uri": "https://localhost:8080/",
          "height": 142
        },
        "id": "9g6BF-R5XtRG",
        "outputId": "b114f4b6-d713-4777-a8b4-1e977cc5af0e"
      },
      "source": [
        "# Creamos un nuevo campo que será la tasa de supervivencia por dependecia de embarque\n",
        "sobrevivientes_embarked['% tasa_mortalidad_embarque']= round((sobrevivientes_embarked['Nombre']*100/total_sobrevivientes_embarked),2)\n",
        "del(sobrevivientes_embarked['Nombre'])\n",
        "sobrevivientes_embarked.reset_index(inplace=True)\n",
        "sobrevivientes_embarked"
      ],
      "execution_count": 261,
      "outputs": [
        {
          "output_type": "execute_result",
          "data": {
            "text/html": [
              "<div>\n",
              "<style scoped>\n",
              "    .dataframe tbody tr th:only-of-type {\n",
              "        vertical-align: middle;\n",
              "    }\n",
              "\n",
              "    .dataframe tbody tr th {\n",
              "        vertical-align: top;\n",
              "    }\n",
              "\n",
              "    .dataframe thead th {\n",
              "        text-align: right;\n",
              "    }\n",
              "</style>\n",
              "<table border=\"1\" class=\"dataframe\">\n",
              "  <thead>\n",
              "    <tr style=\"text-align: right;\">\n",
              "      <th></th>\n",
              "      <th>Embarque</th>\n",
              "      <th>% tasa_mortalidad_embarque</th>\n",
              "    </tr>\n",
              "  </thead>\n",
              "  <tbody>\n",
              "    <tr>\n",
              "      <th>0</th>\n",
              "      <td>C</td>\n",
              "      <td>27.35</td>\n",
              "    </tr>\n",
              "    <tr>\n",
              "      <th>1</th>\n",
              "      <td>Q</td>\n",
              "      <td>8.82</td>\n",
              "    </tr>\n",
              "    <tr>\n",
              "      <th>2</th>\n",
              "      <td>S</td>\n",
              "      <td>63.82</td>\n",
              "    </tr>\n",
              "  </tbody>\n",
              "</table>\n",
              "</div>"
            ],
            "text/plain": [
              "  Embarque  % tasa_mortalidad_embarque\n",
              "0        C                       27.35\n",
              "1        Q                        8.82\n",
              "2        S                       63.82"
            ]
          },
          "metadata": {
            "tags": []
          },
          "execution_count": 261
        }
      ]
    },
    {
      "cell_type": "code",
      "metadata": {
        "colab": {
          "base_uri": "https://localhost:8080/",
          "height": 295
        },
        "id": "-O5BRc8WZjXj",
        "outputId": "3d700ad7-231f-435a-a630-637e1c0baf26"
      },
      "source": [
        "# graficamos\n",
        "sns.set_palette(\"RdBu\")\n",
        "g= sns.barplot(x=\"Embarque\", y=\"% tasa_mortalidad_embarque\", data=sobrevivientes_embarked)\n",
        "g.set_title('Tasa de mortalidad según el lugar de abordaje')\n",
        "g.set_ylabel('Porcentaje de mortalidad')\n",
        "g.set_xticklabels(['Cherbourg', 'Queenstown', 'Southampton'])\n",
        "\n",
        "# creando anotaciones en cada bar\n",
        "for p in g.patches:\n",
        "             g.annotate(\"%.2f\" % p.get_height(), (p.get_x() + p.get_width() / 2., p.get_height()),\n",
        "                 ha='center', va='center', fontsize=11, color='gray', xytext=(0, 10),\n",
        "                 textcoords='offset points')\n",
        "# ajustamos el valor de y a 60             \n",
        "_ = g.set_ylim(0,100) \n",
        "\n",
        "plt.show()"
      ],
      "execution_count": 262,
      "outputs": [
        {
          "output_type": "display_data",
          "data": {
            "image/png": "[encoded data removed]",
            "text/plain": [
              "<Figure size 432x288 with 1 Axes>"
            ]
          },
          "metadata": {
            "tags": [],
            "needs_background": "light"
          }
        }
      ]
    },
    {
      "cell_type": "markdown",
      "metadata": {
        "id": "lyRIW86rvRVx"
      },
      "source": [
        "#**Resumen gráficas**"
      ]
    },
    {
      "cell_type": "code",
      "metadata": {
        "colab": {
          "base_uri": "https://localhost:8080/",
          "height": 404
        },
        "id": "gsChJSlas-hl",
        "outputId": "caadeace-c5ee-4d18-ea7e-079065202dd1"
      },
      "source": [
        "#Conjunto de gráficas \n",
        "fig, (ax1,ax2,ax3)= plt.subplots(1,3, figsize=(20,6))\n",
        "ax1=sns.barplot(x=\"Genero\",y=\"% tasa_mortalidad_gen\", data=sobrevivientes_sex, palette=colors_gen, ax=ax1)\n",
        "ax1.set_title('Tasa de mortalidad según el genero del pasajero')\n",
        "ax1.set_ylabel('Porcentaje de mortalidad')\n",
        "ax1.set_xticklabels(['Femenino', 'Masculino'])\n",
        "for p in ax1.patches:\n",
        "             ax1.annotate(\"%.2f\" % p.get_height(), (p.get_x() + p.get_width() / 2., p.get_height()),\n",
        "                 ha='center', va='center', fontsize=11, color='gray', xytext=(0, 10),\n",
        "                 textcoords='offset points')\n",
        "_ = ax1.set_ylim(0,100) \n",
        "\n",
        "sns.set_palette(\"Blues\")\n",
        "ax2 = sns.barplot(x=\"Clase\", y=\"% tasa_mortalidad_clase\", data=sobrevivientes_class, ax= ax2)\n",
        "ax2.set_title('Tasa de mortalidad según la clase del pasajero')\n",
        "ax2.set_ylabel('Porcentaje de mortalidad')\n",
        "ax2.set_xticklabels(['1st', '2nd', '3rd'])\n",
        "for p in ax2.patches:\n",
        "             ax2.annotate(\"%.2f\" % p.get_height(), (p.get_x() + p.get_width() / 2., p.get_height()),\n",
        "                 ha='center', va='center', fontsize=11, color='gray', xytext=(0, 10),\n",
        "                 textcoords='offset points')\n",
        "_ = ax2.set_ylim(0,100) \n",
        "\n",
        "sns.set_palette(\"RdBu\")\n",
        "ax3= sns.barplot(x=\"Embarque\", y=\"% tasa_mortalidad_embarque\", data=sobrevivientes_embarked, ax=ax3)\n",
        "ax3.set_title('Tasa de mortalidad según el lugar de abordaje')\n",
        "ax3.set_ylabel('Porcentaje de mortalidad')\n",
        "ax3.set_xticklabels(['Cherbourg', 'Queenstown', 'Southampton'])\n",
        "for p in ax3.patches:\n",
        "             ax3.annotate(\"%.2f\" % p.get_height(), (p.get_x() + p.get_width() / 2., p.get_height()),\n",
        "                 ha='center', va='center', fontsize=11, color='gray', xytext=(0, 10),\n",
        "                 textcoords='offset points')\n",
        "_ = ax3.set_ylim(0,100) \n",
        "\n",
        "plt.show()"
      ],
      "execution_count": 263,
      "outputs": [
        {
          "output_type": "display_data",
          "data": {
            "image/png": "[encoded data removed]",
            "text/plain": [
              "<Figure size 1440x432 with 3 Axes>"
            ]
          },
          "metadata": {
            "tags": [],
            "needs_background": "light"
          }
        }
      ]
    },
    {
      "cell_type": "markdown",
      "metadata": {
        "id": "VGzBnyK4s6aR"
      },
      "source": [
        "#**Conclusiones**\n",
        "\n",
        "\n"
      ]
    },
    {
      "cell_type": "markdown",
      "metadata": {
        "id": "cbofVDuRvmIz"
      },
      "source": [
        "##**Tasa de mortalidad según el genero del pasajero**\n",
        "* Vemos que del total de sobrevivientes hubo una mayor cantidad de mujeres 68.13% contra 31.87% de hombres.\n",
        "\n",
        "##**Tasa de mortalidad según la clase del pasajero**\n",
        "* Del total de sobrevivientes observamos que el mayor porcentaje es para la Primer Clase 39.77%, seguido de la Tercera Clase con 34.80% y por último la Segunda Clase con 25.44%. \n",
        "* Sin embargo, de nuestra gráfica \"Distribución de pasajeros por Genero\", vemos que más de la mitad de pasajeros 55.11% pertenecían a la Tercer Clase contra tan solo ese 34.80% de sobrevivientes. \n",
        "\n",
        "##**Tasa de mortalidad según el lugar de abordaje**\n",
        "* Sobrevivieron una mayor cantidad de pasajeros con abordaje \"Southampton\" con 63.82%, seguido de pasajeron con abordaje \"Cherbourg con 27.35% y finalmente los de abordaje tipo \"Cherbourg\""
      ]
    }
  ]
}